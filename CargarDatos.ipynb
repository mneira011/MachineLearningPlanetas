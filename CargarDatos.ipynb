{
 "cells": [
  {
   "cell_type": "code",
   "execution_count": 33,
   "metadata": {
    "collapsed": true
   },
   "outputs": [],
   "source": [
    "import numpy as np\n",
    "import matplotlib.pyplot as plt"
   ]
  },
  {
   "cell_type": "code",
   "execution_count": 41,
   "metadata": {
    "collapsed": true
   },
   "outputs": [],
   "source": [
    "%matplotlib inline"
   ]
  },
  {
   "cell_type": "code",
   "execution_count": 34,
   "metadata": {
    "collapsed": false
   },
   "outputs": [],
   "source": [
    "\n",
    "data = np.loadtxt(\"highp_finalresults.csv\",skiprows=1,delimiter= \",\")"
   ]
  },
  {
   "cell_type": "code",
   "execution_count": 35,
   "metadata": {
    "collapsed": false
   },
   "outputs": [
    {
     "name": "stdout",
     "output_type": "stream",
     "text": [
      "[  0.00000000e+00   1.99993000e+05   2.00000010e+07   3.02372196e-02\n",
      "   4.91087754e-03   1.90492310e+00   1.90298246e+00   4.36817437e+32\n",
      "   5.98823700e+01   1.11072600e+00   5.12876737e+01   1.30000000e-01\n",
      "   1.00000000e+00   3.00000012e-01   1.00000000e+00   1.00000000e-01\n",
      "   7.70700499e-02   9.26893500e+06]\n",
      "[  0.00000000e+00   1.99993000e+05   2.00000010e+07   8.18831572e-01\n",
      "   2.38400468e-04   1.64205633e+00   1.81500476e+00   4.36817437e+32\n",
      "   5.98823700e+01   1.11072600e+00   5.12876737e+01   1.30000000e-01\n",
      "   1.00000000e+00   3.00000012e-01   1.00000000e+00   1.00000000e-01\n",
      "   7.70700499e-02   9.26893500e+06]\n",
      "[  2.97400000e+03   1.99875000e+05   2.00000010e+07   7.41112851e+00\n",
      "   0.00000000e+00   7.46603767e-02   6.48752585e-01   4.09246683e+32\n",
      "   5.06986046e+01   6.85364723e+00   9.90713548e+00   1.80000000e-02\n",
      "   1.00000000e+00   3.00000012e-01   1.00000000e+00   1.00000000e-01\n",
      "   4.08212036e-01   7.71061050e+06]\n"
     ]
    }
   ],
   "source": [
    "print data[0]\n",
    "print data[1]\n",
    "print data[-1]"
   ]
  },
  {
   "cell_type": "code",
   "execution_count": 69,
   "metadata": {
    "collapsed": false
   },
   "outputs": [],
   "source": [
    "col0 = list(set(np.int_(data[:,0])))\n",
    "n_sis = len(col0)\n",
    "\n",
    "numPlanetas = np.ones(n_sis)\n",
    "masaPlanetas = np.ones(n_sis)\n",
    "eficienciaMasas = np.ones(n_sis)\n",
    "\n",
    "for i in range(n_sis):\n",
    "    x=data[data[:,0]==col0[i]]\n",
    "    \n",
    "    numPlanetas[i] = len(x)\n",
    "    \n",
    "    masaPlanetas[i] = sum(x[:,5])\n",
    "    eficienciaMasas[i] = masaPlanetas[i]/(x[0][11] /3.003E-6)\n",
    "    \n",
    "    "
   ]
  },
  {
   "cell_type": "code",
   "execution_count": 71,
   "metadata": {
    "collapsed": false
   },
   "outputs": [
    {
     "name": "stdout",
     "output_type": "stream",
     "text": [
      "11.7202166065\n",
      "4.11276817326\n"
     ]
    },
    {
     "data": {
      "image/png": "[encoded data removed]",
      "text/plain": [
       "<matplotlib.figure.Figure at 0x7fda0e85bf10>"
      ]
     },
     "metadata": {},
     "output_type": "display_data"
    }
   ],
   "source": [
    "plt.plot(np.log10(eficienciaMasas))\n",
    "print np.average(yn)\n",
    "print np.std(yn)"
   ]
  },
  {
   "cell_type": "code",
   "execution_count": null,
   "metadata": {
    "collapsed": true
   },
   "outputs": [],
   "source": []
  },
  {
   "cell_type": "code",
   "execution_count": 67,
   "metadata": {
    "collapsed": false
   },
   "outputs": [
    {
     "name": "stdout",
     "output_type": "stream",
     "text": [
      "[  0.00000000e+00   1.99993000e+05   2.00000010e+07   3.02372196e-02\n",
      "   4.91087754e-03   1.90492310e+00   1.90298246e+00   4.36817437e+32\n",
      "   5.98823700e+01   1.11072600e+00   5.12876737e+01   1.30000000e-01\n",
      "   1.00000000e+00   3.00000012e-01   1.00000000e+00   1.00000000e-01\n",
      "   7.70700499e-02   9.26893500e+06]\n"
     ]
    }
   ],
   "source": [
    "print data[0]"
   ]
  },
  {
   "cell_type": "code",
   "execution_count": null,
   "metadata": {
    "collapsed": true
   },
   "outputs": [],
   "source": []
  }
 ],
 "metadata": {
  "kernelspec": {
   "display_name": "Python 2",
   "language": "python",
   "name": "python2"
  },
  "language_info": {
   "codemirror_mode": {
    "name": "ipython",
    "version": 2
   },
   "file_extension": ".py",
   "mimetype": "text/x-python",
   "name": "python",
   "nbconvert_exporter": "python",
   "pygments_lexer": "ipython2",
   "version": "2.7.6"
  }
 },
 "nbformat": 4,
 "nbformat_minor": 0
}
