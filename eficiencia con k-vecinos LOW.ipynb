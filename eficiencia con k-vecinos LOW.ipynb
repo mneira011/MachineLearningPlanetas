{
 "cells": [
  {
   "cell_type": "code",
   "execution_count": 7,
   "metadata": {
    "collapsed": true
   },
   "outputs": [],
   "source": [
    "import numpy as np\n",
    "import matplotlib.pyplot as plt\n",
    "from sklearn.model_selection import train_test_split\n",
    "from sklearn import preprocessing"
   ]
  },
  {
   "cell_type": "code",
   "execution_count": 8,
   "metadata": {
    "collapsed": true
   },
   "outputs": [],
   "source": [
    "%matplotlib inline"
   ]
  },
  {
   "cell_type": "code",
   "execution_count": 9,
   "metadata": {
    "collapsed": false
   },
   "outputs": [],
   "source": [
    "data = np.loadtxt(\"lowp_finalresults.csv\",skiprows=1,delimiter= \",\")"
   ]
  },
  {
   "cell_type": "code",
   "execution_count": 10,
   "metadata": {
    "collapsed": false
   },
   "outputs": [],
   "source": [
    "#Hacemos una lista con los identificadores sin repetir de los planetas\n",
    "col0 = list(set(np.int_(data[:,0])))\n",
    "#Definimos el número de sistemas\n",
    "n_sis = len(col0)\n",
    "\n",
    "#Hacemos una lista con el numero de planetas por sistema\n",
    "numPlanetas = np.ones(n_sis)\n",
    "#Hacemos una lista con la masa total de los planetas por sistema\n",
    "masaPlanetas = np.ones(n_sis)\n",
    "#Hacemos una lista con la eficiencia de masa de los sistemas\n",
    "eficienciaMasas = np.ones(n_sis)\n",
    "#Hacemos una lista con la masa estelar del sistema\n",
    "emestar = np.ones(n_sis)\n",
    "#Hacemos una lista con el radio de corte del disco exterior\n",
    "rc = np.ones(n_sis)\n",
    "#Hacemos una lista con la maxima densidad superficial del polvo\n",
    "sigmag_0 = np.ones(n_sis)\n",
    "#Hacemos una lista con la masa del disco\n",
    "emed = np.ones(n_sis)\n",
    "#Hacemos una lista con la amplitud de perturbación \n",
    "apert = np.ones(n_sis)\n",
    "#Hacemos una lista con la metalicidad\n",
    "emetal = np.ones(n_sis)\n",
    "#Hacemos una lista con la taza de disipacion de gas\n",
    "taugas = np.ones(n_sis)\n",
    "\n",
    "#LLenamos las listas\n",
    "for i in range(n_sis):\n",
    "    x=data[data[:,0]==col0[i]]\n",
    "    numPlanetas[i] = len(x)\n",
    "    masaPlanetas[i] = sum(x[:,5])\n",
    "    eficienciaMasas[i] = masaPlanetas[i]/(x[0][11] /3.003E-6)\n",
    "    emestar[i] =x[0][7]\n",
    "    rc[i] = x[0][8]\n",
    "    sigmag_0[i] = x[0][10]\n",
    "    emed[i] = x[0][11]\n",
    "    apert[i] = x[0][13]\n",
    "    emetal[i] = x[0][16]\n",
    "    taugas[i] = x[0][17]\n",
    "    \n",
    "#Una vez cargados los datos generamos la lista de datos de entrada Xs\n",
    "Xs = np.array([emestar,rc,sigmag_0,emed,apert,emetal,taugas])\n",
    "Xs = Xs.transpose()\n",
    "#Ahora normalizamos Xs\n",
    "scaler = preprocessing.StandardScaler().fit(Xs)\n",
    "Xs=scaler.transform(Xs)\n",
    "#Ahora partimos los datos Xs en X (con train, test) y Xv (validation)\n",
    "Xv=[]\n",
    "numPlanetasv=[]\n",
    "masaPlanetasv=[]\n",
    "eficienciaMasasv=[]\n",
    "X=[]\n",
    "numPlanetastt=[]\n",
    "masaPlanetastt=[]\n",
    "eficienciaMasastt=[]\n",
    "\n",
    "for i in range(n_sis):\n",
    "    if(i<(n_sis*0.1)):\n",
    "        Xv.append(Xs[i])\n",
    "        numPlanetasv.append(numPlanetas[i])\n",
    "        masaPlanetasv.append(masaPlanetas[i])\n",
    "        eficienciaMasasv.append(eficienciaMasas[i])\n",
    "    else:\n",
    "        X.append(Xs[i])\n",
    "        numPlanetastt.append(numPlanetas[i])\n",
    "        masaPlanetastt.append(masaPlanetas[i])\n",
    "        eficienciaMasastt.append(eficienciaMasas[i])\n",
    "\n",
    "#Ahora partimos X y los tt en train y test\n",
    "X_train, X_test, numPlanetas_train, numPlanetas_test = train_test_split(X, numPlanetastt)\n",
    "X_train, X_test, masaPlanetas_train, masaPlanetas_test = train_test_split(X, masaPlanetastt)\n",
    "X_train, X_test, eficienciaMasas_train, eficienciaMasas_test = train_test_split(X, eficienciaMasastt)\n",
    "    \n",
    "n_train = len(X_train)\n",
    "n_test =  len(X_test)\n",
    "n_val = len(Xv)\n",
    "    "
   ]
  },
  {
   "cell_type": "code",
   "execution_count": 11,
   "metadata": {
    "collapsed": true
   },
   "outputs": [],
   "source": [
    "#En este modulo nos vamos a enfocar en modelar la eficiencia de Masas del sistema con el método de k-vecinos, que consiste en preguntarle \n",
    "#a los k sistemas más cercanos en terminos de sus valores de entrada la masa de sus planetasy luego hacer una votación\n",
    "def kvecinos(data,point,k):\n",
    "    #Definimos una lista con las distancia del punto a todo los puntos de X_train\n",
    "    dist= np.ones(n_train)\n",
    "    for i in range(n_train):\n",
    "        dist[i] = np.sqrt((point[0]-X_train[i][0])**2.0 + (point[1]-X_train[i][1])**2.0 + (point[2]-X_train[i][2])**2.0 + (point[3]-X_train[i][3])**2.0 + (point[4]-X_train[i][4])**2.0 + (point[5]-X_train[i][5])**2.0 + (point[6]-X_train[i][6])**2.0) \n",
    "    #Ahora defino la lista que posee el numero de planetas que tienen lo kvecinos más cercanos\n",
    "    eficiencias= np.ones(k)\n",
    "    for i in range(k):\n",
    "        ind = np.where(dist==min(dist))[0][0]\n",
    "        eficiencias[i]=eficienciaMasas_train[ind]\n",
    "        dist= np.delete(dist,ind,0)\n",
    "    # Hagmos el promedio\n",
    "    return sum(eficiencias)/k"
   ]
  },
  {
   "cell_type": "code",
   "execution_count": 12,
   "metadata": {
    "collapsed": false
   },
   "outputs": [
    {
     "ename": "KeyboardInterrupt",
     "evalue": "",
     "output_type": "error",
     "traceback": [
      "\u001b[1;31m---------------------------------------------------------------------------\u001b[0m",
      "\u001b[1;31mKeyboardInterrupt\u001b[0m                         Traceback (most recent call last)",
      "\u001b[1;32m<ipython-input-12-d84fa193170e>\u001b[0m in \u001b[0;36m<module>\u001b[1;34m()\u001b[0m\n\u001b[0;32m      7\u001b[0m     \u001b[0merrorporcentual\u001b[0m\u001b[1;33m=\u001b[0m\u001b[1;36m0\u001b[0m\u001b[1;33m\u001b[0m\u001b[0m\n\u001b[0;32m      8\u001b[0m     \u001b[1;32mfor\u001b[0m \u001b[0mi\u001b[0m \u001b[1;32min\u001b[0m \u001b[0mrange\u001b[0m\u001b[1;33m(\u001b[0m\u001b[0mn_test\u001b[0m\u001b[1;33m)\u001b[0m\u001b[1;33m:\u001b[0m\u001b[1;33m\u001b[0m\u001b[0m\n\u001b[1;32m----> 9\u001b[1;33m         \u001b[0merrorporcentual\u001b[0m\u001b[1;33m+=\u001b[0m\u001b[0mabs\u001b[0m\u001b[1;33m(\u001b[0m\u001b[0meficienciaMasas_test\u001b[0m\u001b[1;33m[\u001b[0m\u001b[0mi\u001b[0m\u001b[1;33m]\u001b[0m\u001b[1;33m-\u001b[0m\u001b[0mkvecinos\u001b[0m\u001b[1;33m(\u001b[0m\u001b[0mX_train\u001b[0m\u001b[1;33m,\u001b[0m\u001b[0mX_test\u001b[0m\u001b[1;33m[\u001b[0m\u001b[0mi\u001b[0m\u001b[1;33m]\u001b[0m\u001b[1;33m,\u001b[0m\u001b[0mk\u001b[0m\u001b[1;33m)\u001b[0m\u001b[1;33m)\u001b[0m\u001b[1;33m/\u001b[0m\u001b[1;33m(\u001b[0m\u001b[0meficienciaMasas_test\u001b[0m\u001b[1;33m[\u001b[0m\u001b[0mi\u001b[0m\u001b[1;33m]\u001b[0m\u001b[1;33m)\u001b[0m\u001b[1;33m\u001b[0m\u001b[0m\n\u001b[0m\u001b[0;32m     10\u001b[0m     \u001b[0merrorporcentual\u001b[0m\u001b[1;33m=\u001b[0m\u001b[0merrorporcentual\u001b[0m\u001b[1;33m/\u001b[0m\u001b[0mn_test\u001b[0m\u001b[1;33m\u001b[0m\u001b[0m\n\u001b[0;32m     11\u001b[0m     \u001b[0maciertos\u001b[0m\u001b[1;33m[\u001b[0m\u001b[0mk\u001b[0m\u001b[1;33m-\u001b[0m\u001b[0mlimitei\u001b[0m\u001b[1;33m]\u001b[0m\u001b[1;33m=\u001b[0m\u001b[0merrorporcentual\u001b[0m\u001b[1;33m*\u001b[0m\u001b[1;36m100.0\u001b[0m\u001b[1;33m\u001b[0m\u001b[0m\n",
      "\u001b[1;32m<ipython-input-11-42e1ab9c6ae0>\u001b[0m in \u001b[0;36mkvecinos\u001b[1;34m(data, point, k)\u001b[0m\n\u001b[0;32m      4\u001b[0m     \u001b[1;31m#Definimos una lista con las distancia del punto a todo los puntos de X_train\u001b[0m\u001b[1;33m\u001b[0m\u001b[1;33m\u001b[0m\u001b[0m\n\u001b[0;32m      5\u001b[0m     \u001b[0mdist\u001b[0m\u001b[1;33m=\u001b[0m \u001b[0mnp\u001b[0m\u001b[1;33m.\u001b[0m\u001b[0mones\u001b[0m\u001b[1;33m(\u001b[0m\u001b[0mn_train\u001b[0m\u001b[1;33m)\u001b[0m\u001b[1;33m\u001b[0m\u001b[0m\n\u001b[1;32m----> 6\u001b[1;33m     \u001b[1;32mfor\u001b[0m \u001b[0mi\u001b[0m \u001b[1;32min\u001b[0m \u001b[0mrange\u001b[0m\u001b[1;33m(\u001b[0m\u001b[0mn_train\u001b[0m\u001b[1;33m)\u001b[0m\u001b[1;33m:\u001b[0m\u001b[1;33m\u001b[0m\u001b[0m\n\u001b[0m\u001b[0;32m      7\u001b[0m         \u001b[0mdist\u001b[0m\u001b[1;33m[\u001b[0m\u001b[0mi\u001b[0m\u001b[1;33m]\u001b[0m \u001b[1;33m=\u001b[0m \u001b[0mnp\u001b[0m\u001b[1;33m.\u001b[0m\u001b[0msqrt\u001b[0m\u001b[1;33m(\u001b[0m\u001b[1;33m(\u001b[0m\u001b[0mpoint\u001b[0m\u001b[1;33m[\u001b[0m\u001b[1;36m0\u001b[0m\u001b[1;33m]\u001b[0m\u001b[1;33m-\u001b[0m\u001b[0mX_train\u001b[0m\u001b[1;33m[\u001b[0m\u001b[0mi\u001b[0m\u001b[1;33m]\u001b[0m\u001b[1;33m[\u001b[0m\u001b[1;36m0\u001b[0m\u001b[1;33m]\u001b[0m\u001b[1;33m)\u001b[0m\u001b[1;33m**\u001b[0m\u001b[1;36m2.0\u001b[0m \u001b[1;33m+\u001b[0m \u001b[1;33m(\u001b[0m\u001b[0mpoint\u001b[0m\u001b[1;33m[\u001b[0m\u001b[1;36m1\u001b[0m\u001b[1;33m]\u001b[0m\u001b[1;33m-\u001b[0m\u001b[0mX_train\u001b[0m\u001b[1;33m[\u001b[0m\u001b[0mi\u001b[0m\u001b[1;33m]\u001b[0m\u001b[1;33m[\u001b[0m\u001b[1;36m1\u001b[0m\u001b[1;33m]\u001b[0m\u001b[1;33m)\u001b[0m\u001b[1;33m**\u001b[0m\u001b[1;36m2.0\u001b[0m \u001b[1;33m+\u001b[0m \u001b[1;33m(\u001b[0m\u001b[0mpoint\u001b[0m\u001b[1;33m[\u001b[0m\u001b[1;36m2\u001b[0m\u001b[1;33m]\u001b[0m\u001b[1;33m-\u001b[0m\u001b[0mX_train\u001b[0m\u001b[1;33m[\u001b[0m\u001b[0mi\u001b[0m\u001b[1;33m]\u001b[0m\u001b[1;33m[\u001b[0m\u001b[1;36m2\u001b[0m\u001b[1;33m]\u001b[0m\u001b[1;33m)\u001b[0m\u001b[1;33m**\u001b[0m\u001b[1;36m2.0\u001b[0m \u001b[1;33m+\u001b[0m \u001b[1;33m(\u001b[0m\u001b[0mpoint\u001b[0m\u001b[1;33m[\u001b[0m\u001b[1;36m3\u001b[0m\u001b[1;33m]\u001b[0m\u001b[1;33m-\u001b[0m\u001b[0mX_train\u001b[0m\u001b[1;33m[\u001b[0m\u001b[0mi\u001b[0m\u001b[1;33m]\u001b[0m\u001b[1;33m[\u001b[0m\u001b[1;36m3\u001b[0m\u001b[1;33m]\u001b[0m\u001b[1;33m)\u001b[0m\u001b[1;33m**\u001b[0m\u001b[1;36m2.0\u001b[0m \u001b[1;33m+\u001b[0m \u001b[1;33m(\u001b[0m\u001b[0mpoint\u001b[0m\u001b[1;33m[\u001b[0m\u001b[1;36m4\u001b[0m\u001b[1;33m]\u001b[0m\u001b[1;33m-\u001b[0m\u001b[0mX_train\u001b[0m\u001b[1;33m[\u001b[0m\u001b[0mi\u001b[0m\u001b[1;33m]\u001b[0m\u001b[1;33m[\u001b[0m\u001b[1;36m4\u001b[0m\u001b[1;33m]\u001b[0m\u001b[1;33m)\u001b[0m\u001b[1;33m**\u001b[0m\u001b[1;36m2.0\u001b[0m \u001b[1;33m+\u001b[0m \u001b[1;33m(\u001b[0m\u001b[0mpoint\u001b[0m\u001b[1;33m[\u001b[0m\u001b[1;36m5\u001b[0m\u001b[1;33m]\u001b[0m\u001b[1;33m-\u001b[0m\u001b[0mX_train\u001b[0m\u001b[1;33m[\u001b[0m\u001b[0mi\u001b[0m\u001b[1;33m]\u001b[0m\u001b[1;33m[\u001b[0m\u001b[1;36m5\u001b[0m\u001b[1;33m]\u001b[0m\u001b[1;33m)\u001b[0m\u001b[1;33m**\u001b[0m\u001b[1;36m2.0\u001b[0m \u001b[1;33m+\u001b[0m \u001b[1;33m(\u001b[0m\u001b[0mpoint\u001b[0m\u001b[1;33m[\u001b[0m\u001b[1;36m6\u001b[0m\u001b[1;33m]\u001b[0m\u001b[1;33m-\u001b[0m\u001b[0mX_train\u001b[0m\u001b[1;33m[\u001b[0m\u001b[0mi\u001b[0m\u001b[1;33m]\u001b[0m\u001b[1;33m[\u001b[0m\u001b[1;36m6\u001b[0m\u001b[1;33m]\u001b[0m\u001b[1;33m)\u001b[0m\u001b[1;33m**\u001b[0m\u001b[1;36m2.0\u001b[0m\u001b[1;33m)\u001b[0m\u001b[1;33m\u001b[0m\u001b[0m\n\u001b[0;32m      8\u001b[0m     \u001b[1;31m#Ahora defino la lista que posee el numero de planetas que tienen lo kvecinos más cercanos\u001b[0m\u001b[1;33m\u001b[0m\u001b[1;33m\u001b[0m\u001b[0m\n",
      "\u001b[1;31mKeyboardInterrupt\u001b[0m: "
     ]
    }
   ],
   "source": [
    "limite=50\n",
    "limitei=1\n",
    "#Definimos la lista con el error porcentual  para un k dado\n",
    "aciertos=np.ones(limite-limitei)\n",
    "#Vamos a ver cual k da el mejor modelo para ello calculamos el error porcentual promedio\n",
    "for k in range(limitei,limite):\n",
    "    errorporcentual=0\n",
    "    for i in range(n_test):\n",
    "        errorporcentual+=abs(eficienciaMasas_test[i]-kvecinos(X_train,X_test[i],k))/(eficienciaMasas_test[i])\n",
    "    errorporcentual=errorporcentual/n_test\n",
    "    aciertos[k-limitei]=errorporcentual*100.0\n",
    "        \n",
    "       "
   ]
  },
  {
   "cell_type": "code",
   "execution_count": null,
   "metadata": {
    "collapsed": false
   },
   "outputs": [],
   "source": [
    "plt.figure(figsize=(10,10))\n",
    "plt.plot(range(limitei,limite),aciertos)\n",
    "plt.show()\n",
    "print(min(aciertos))"
   ]
  },
  {
   "cell_type": "code",
   "execution_count": null,
   "metadata": {
    "collapsed": true
   },
   "outputs": [],
   "source": [
    "limite=110\n",
    "limitei=100\n",
    "#Definimos la lista con el error porcentual  para un k dado\n",
    "aciertos=np.ones(limite-limitei)\n",
    "#Vamos a ver cual k da el mejor modelo para ello calculamos el error porcentual promedio\n",
    "for k in range(limitei,limite):\n",
    "    errorporcentual=0\n",
    "    for i in range(n_test):\n",
    "        errorporcentual+=abs(eficienciaMasas_test[i]-kvecinos(X_train,X_test[i],k))/(eficienciaMasas_test[i])\n",
    "    errorporcentual=errorporcentual/n_test\n",
    "    aciertos[k-limitei]=errorporcentual*100.0"
   ]
  },
  {
   "cell_type": "code",
   "execution_count": null,
   "metadata": {
    "collapsed": false
   },
   "outputs": [],
   "source": [
    "plt.figure(figsize=(10,10))\n",
    "plt.plot(range(limitei,limite),aciertos)\n",
    "plt.show()"
   ]
  },
  {
   "cell_type": "code",
   "execution_count": null,
   "metadata": {
    "collapsed": true
   },
   "outputs": [],
   "source": [
    "#Podemos ver que el menor error porcentual es de 930%"
   ]
  }
 ],
 "metadata": {
  "anaconda-cloud": {},
  "kernelspec": {
   "display_name": "Python [Root]",
   "language": "python",
   "name": "Python [Root]"
  },
  "language_info": {
   "codemirror_mode": {
    "name": "ipython",
    "version": 3
   },
   "file_extension": ".py",
   "mimetype": "text/x-python",
   "name": "python",
   "nbconvert_exporter": "python",
   "pygments_lexer": "ipython3",
   "version": "3.5.2"
  }
 },
 "nbformat": 4,
 "nbformat_minor": 0
}
