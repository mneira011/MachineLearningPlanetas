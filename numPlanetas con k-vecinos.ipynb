{
 "cells": [
  {
   "cell_type": "code",
   "execution_count": 1,
   "metadata": {
    "collapsed": true
   },
   "outputs": [],
   "source": [
    "import numpy as np\n",
    "import matplotlib.pyplot as plt\n",
    "from sklearn.model_selection import train_test_split\n",
    "from sklearn import preprocessing"
   ]
  },
  {
   "cell_type": "code",
   "execution_count": 2,
   "metadata": {
    "collapsed": true
   },
   "outputs": [],
   "source": [
    "%matplotlib inline"
   ]
  },
  {
   "cell_type": "code",
   "execution_count": 3,
   "metadata": {
    "collapsed": false
   },
   "outputs": [],
   "source": [
    "data = np.loadtxt(\"highp_finalresults.csv\",skiprows=1,delimiter= \",\")"
   ]
  },
  {
   "cell_type": "code",
   "execution_count": 5,
   "metadata": {
    "collapsed": false
   },
   "outputs": [],
   "source": [
    "#Hacemos una lista con los identificadores sin repetir de los planetas\n",
    "col0 = list(set(np.int_(data[:,0])))\n",
    "#Definimos el número de sistemas\n",
    "n_sis = len(col0)\n",
    "\n",
    "#Hacemos una lista con el numero de planetas por sistema\n",
    "numPlanetas = np.ones(n_sis)\n",
    "#Hacemos una lista con la masa total de los planetas por sistema\n",
    "masaPlanetas = np.ones(n_sis)\n",
    "#Hacemos una lista con la eficiencia de masa de los sistemas\n",
    "eficienciaMasas = np.ones(n_sis)\n",
    "#Hacemos una lista con la masa estelar del sistema\n",
    "emestar = np.ones(n_sis)\n",
    "#Hacemos una lista con el radio de corte del disco exterior\n",
    "rc = np.ones(n_sis)\n",
    "#Hacemos una lista con la maxima densidad superficial del polvo\n",
    "sigmag_0 = np.ones(n_sis)\n",
    "#Hacemos una lista con la masa del disco\n",
    "emed = np.ones(n_sis)\n",
    "#Hacemos una lista con la amplitud de perturbación \n",
    "apert = np.ones(n_sis)\n",
    "#Hacemos una lista con la metalicidad\n",
    "emetal = np.ones(n_sis)\n",
    "#Hacemos una lista con la taza de disipacion de gas\n",
    "taugas = np.ones(n_sis)\n",
    "\n",
    "#LLenamos las listas\n",
    "for i in range(n_sis):\n",
    "    x=data[data[:,0]==col0[i]]\n",
    "    numPlanetas[i] = len(x)\n",
    "    masaPlanetas[i] = sum(x[:,5])\n",
    "    eficienciaMasas[i] = masaPlanetas[i]/(x[0][11] /3.003E-6)\n",
    "    emestar[i] =x[0][7]\n",
    "    rc[i] = x[0][8]\n",
    "    sigmag_0[i] = x[0][10]\n",
    "    emed[i] = x[0][11]\n",
    "    apert[i] = x[0][13]\n",
    "    emetal[i] = x[0][16]\n",
    "    taugas[i] = x[0][17]\n",
    "    \n",
    "#Una vez cargados los datos generamos la lista de datos de entrada Xs\n",
    "Xs = np.array([emestar,rc,sigmag_0,emed,apert,emetal,taugas])\n",
    "Xs = Xs.transpose()\n",
    "#Ahora normalizamos Xs\n",
    "scaler = preprocessing.StandardScaler().fit(Xs)\n",
    "scaler.transform(Xs)\n",
    "#Ahora partimos los datos Xs en X (con train, test) y Xv (validation)\n",
    "Xv=[]\n",
    "numPlanetasv=[]\n",
    "masaPlanetasv=[]\n",
    "eficienciaMasasv=[]\n",
    "X=[]\n",
    "numPlanetastt=[]\n",
    "masaPlanetastt=[]\n",
    "eficienciaMasastt=[]\n",
    "\n",
    "for i in range(n_sis):\n",
    "    if(i<(n_sis*0.1)):\n",
    "        Xv.append(Xs[i])\n",
    "        numPlanetasv.append(numPlanetas[i])\n",
    "        masaPlanetasv.append(masaPlanetas[i])\n",
    "        eficienciaMasasv.append(eficienciaMasas[i])\n",
    "    else:\n",
    "        X.append(Xs[i])\n",
    "        numPlanetastt.append(numPlanetas[i])\n",
    "        masaPlanetastt.append(masaPlanetas[i])\n",
    "        eficienciaMasastt.append(eficienciaMasas[i])\n",
    "\n",
    "#Ahora partimos X y los tt en train y test\n",
    "X_train, X_test, numPlanetas_train, numPlanetas_test = train_test_split(X, numPlanetastt)\n",
    "X_train, X_test, masaPlanetas_train, masaPlanetas_test = train_test_split(X, masaPlanetastt)\n",
    "X_train, X_test, eficienciaMasas_train, eficienciaMasas_test = train_test_split(X, eficienciaMasastt)\n",
    "    \n",
    "n_train = len(X_train)\n",
    "n_test =  len(X_test)\n",
    "n_val = len(Xv)\n",
    "    "
   ]
  },
  {
   "cell_type": "code",
   "execution_count": 24,
   "metadata": {
    "collapsed": true
   },
   "outputs": [],
   "source": [
    "#En este modulo nos vamos a enfocar en modelar el numero de planetas con el método de k-vecinos, que consiste en preguntarle \n",
    "#a los k sistemas más cercanos en terminos de sus valores de entrada cuantos planetas tiene y luego hacer una votación\n",
    "def kvecinos(data,point,k):\n",
    "    #Definimos una lista con las distancia del punto a todo los puntos de X_train\n",
    "    dist= np.ones(n_train)\n",
    "    for i in range(n_train):\n",
    "        dist[i] = np.sqrt((point[0]-X_train[i][0])**2.0 + (point[1]-X_train[i][1])**2.0 + (point[2]-X_train[i][2])**2.0 + (point[3]-X_train[i][3])**2.0 + (point[4]-X_train[i][4])**2.0 + (point[5]-X_train[i][5])**2.0 + (point[6]-X_train[i][6])**2.0) \n",
    "    #Ahora defino la lista que posee el numero de planetas que tienen lo kvecinos más cercanos\n",
    "    numPlanteasVecinos= np.ones(k)\n",
    "    for i in range(k):\n",
    "        ind = np.where(dist==min(dist))[0][0]\n",
    "        numPlanteasVecinos[i]=numPlanetas_train[ind]\n",
    "        dist= np.delete(dist,ind,0)\n",
    "    #Aquí podemos tomar dos aproximaciones diferentes, contar el número de sistemas que tienen n planetas ó sumar el número \n",
    "    #de los planetas de los vecinos y asignar al nuestro el promedio. Hagmos el promedio\n",
    "    return round(sum(numPlanteasVecinos)/k)"
   ]
  },
  {
   "cell_type": "code",
   "execution_count": 35,
   "metadata": {
    "collapsed": false
   },
   "outputs": [],
   "source": [
    "limite=200\n",
    "limitei=150\n",
    "#Definimos la lista con el porcentaje de aciertos para un k dado\n",
    "aciertos=np.ones(limite-limitei)\n",
    "#Vamos a ver cual k da el mejor modelo\n",
    "for k in range(limitei,limite):\n",
    "    acertados=0\n",
    "    for i in range(n_test):\n",
    "        if(numPlanetas_test[i]==kvecinos(X_train,X_test[i],k)):\n",
    "            acertados+=1\n",
    "    aciertos[k-limitei]=(acertados/n_test)*100.0\n",
    "       "
   ]
  },
  {
   "cell_type": "code",
   "execution_count": 36,
   "metadata": {
    "collapsed": false
   },
   "outputs": [
    {
     "data": {
      "image/png": "[encoded data removed]",
      "text/plain": [
       "<matplotlib.figure.Figure at 0x25fd49bce10>"
      ]
     },
     "metadata": {},
     "output_type": "display_data"
    }
   ],
   "source": [
    "plt.figure(figsize=(10,10))\n",
    "plt.plot(range(limitei,limite),aciertos)\n",
    "plt.show()"
   ]
  },
  {
   "cell_type": "code",
   "execution_count": 34,
   "metadata": {
    "collapsed": false
   },
   "outputs": [
    {
     "name": "stdout",
     "output_type": "stream",
     "text": [
      "624\n"
     ]
    }
   ],
   "source": [
    "#Podemos ver que el porcentaje de aciertos usando este método núnca supera el 15%. Debemos usar otro."
   ]
  },
  {
   "cell_type": "code",
   "execution_count": null,
   "metadata": {
    "collapsed": true
   },
   "outputs": [],
   "source": []
  }
 ],
 "metadata": {
  "kernelspec": {
   "display_name": "Python 3",
   "language": "python",
   "name": "python3"
  },
  "language_info": {
   "codemirror_mode": {
    "name": "ipython",
    "version": 3
   },
   "file_extension": ".py",
   "mimetype": "text/x-python",
   "name": "python",
   "nbconvert_exporter": "python",
   "pygments_lexer": "ipython3",
   "version": "3.6.0"
  }
 },
 "nbformat": 4,
 "nbformat_minor": 0
}
